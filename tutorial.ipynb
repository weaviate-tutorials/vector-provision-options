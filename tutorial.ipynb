{
 "cells": [
  {
   "cell_type": "markdown",
   "id": "45e13e7b",
   "metadata": {
    "slideshow": {
     "slide_type": "slide"
    }
   },
   "source": [
    "## Data import with Weaviate"
   ]
  },
  {
   "cell_type": "markdown",
   "id": "d380e9f6-2e24-48a0-a5b4-d9a46cf0f2fc",
   "metadata": {
    "slideshow": {
     "slide_type": "skip"
    }
   },
   "source": [
    "> Note: This Jupyter notebook is an accompaniment to our video tutorial on the topic, which can be found at https://www.weaviate.io/developers/weaviate/tutorials/vector-provision-options"
   ]
  },
  {
   "cell_type": "markdown",
   "id": "cdbc86a6",
   "metadata": {
    "slideshow": {
     "slide_type": "fragment"
    }
   },
   "source": [
    "To import data into Weaviate, you can:\n",
    "\n",
    "- Have Weaviate obtain a vector (e.g. through an inference API) with a `vectorizer` module"
   ]
  },
  {
   "cell_type": "markdown",
   "id": "d82508f1",
   "metadata": {
    "slideshow": {
     "slide_type": "fragment"
    }
   },
   "source": [
    "- Or provide your own vector"
   ]
  },
  {
   "cell_type": "markdown",
   "id": "666613af",
   "metadata": {
    "slideshow": {
     "slide_type": "fragment"
    }
   },
   "source": [
    "We will show you an example of both here."
   ]
  },
  {
   "cell_type": "markdown",
   "id": "9c87dd28",
   "metadata": {
    "slideshow": {
     "slide_type": "fragment"
    }
   },
   "source": [
    "**Note**: Python used here - but principle applicable to all client libraries."
   ]
  },
  {
   "cell_type": "markdown",
   "id": "dc8d1b62",
   "metadata": {
    "slideshow": {
     "slide_type": "slide"
    }
   },
   "source": [
    "### Instantiate Weaviate client"
   ]
  },
  {
   "cell_type": "code",
   "execution_count": 1,
   "id": "2d494a78",
   "metadata": {
    "slideshow": {
     "slide_type": "subslide"
    }
   },
   "outputs": [],
   "source": [
    "import weaviate\n",
    "import os\n",
    "\n",
    "api_key = os.environ[\"OPENAI_API_KEY\"]\n",
    "weaviate_url = os.environ[\"TEMP_WEAVIATE_URL\"]\n",
    "\n",
    "client = weaviate.Client(\n",
    "    url=weaviate_url,  # Replace with your actual instance (e.g. url=\"http://localhost:8080/\", or \"https://your-endpoint.weaviate.network/\")\n",
    "    additional_headers={\n",
    "        \"X-OpenAI-API-Key\": api_key\n",
    "    }\n",
    ")"
   ]
  },
  {
   "cell_type": "code",
   "execution_count": 2,
   "id": "ac5398d5",
   "metadata": {
    "slideshow": {
     "slide_type": "skip"
    }
   },
   "outputs": [],
   "source": [
    "# client.schema.delete_all()  # To wipe your instance clean"
   ]
  },
  {
   "cell_type": "code",
   "execution_count": 3,
   "id": "e3d8a1ee",
   "metadata": {
    "scrolled": true,
    "slideshow": {
     "slide_type": "slide"
    }
   },
   "outputs": [
    {
     "name": "stdout",
     "output_type": "stream",
     "text": [
      "{\n",
      "  \"hostname\": \"http://[::]:8080\",\n",
      "  \"modules\": {\n",
      "    \"text2vec-openai\": {\n",
      "      \"documentationHref\": \"https://beta.openai.com/docs/guides/embeddings/what-are-embeddings\",\n",
      "      \"name\": \"OpenAI Module\"\n",
      "    }\n",
      "  },\n",
      "  \"version\": \"1.18.0\"\n",
      "}\n"
     ]
    }
   ],
   "source": [
    "def jprint(json_in):\n",
    "    import json\n",
    "    print(json.dumps(json_in, indent=2))\n",
    "\n",
    "jprint(client.get_meta())"
   ]
  },
  {
   "cell_type": "code",
   "execution_count": 4,
   "id": "57f82e00",
   "metadata": {
    "slideshow": {
     "slide_type": "subslide"
    }
   },
   "outputs": [
    {
     "name": "stdout",
     "output_type": "stream",
     "text": [
      "{\n",
      "  \"classes\": []\n",
      "}\n"
     ]
    }
   ],
   "source": [
    "jprint(client.schema.get())"
   ]
  },
  {
   "cell_type": "markdown",
   "id": "a037a8a3",
   "metadata": {
    "slideshow": {
     "slide_type": "slide"
    }
   },
   "source": [
    "### Load data\n",
    "\n",
    "**Note**: Detail unimportant\n",
    "- Know that this function yields dictionaries of data to be imported."
   ]
  },
  {
   "cell_type": "markdown",
   "id": "b7500e50",
   "metadata": {
    "slideshow": {
     "slide_type": "fragment"
    }
   },
   "source": [
    "Example: \n",
    "\n",
    "```\n",
    "{\n",
    "  \"review_body\": \"A soft, creamy wine full of apple and pear fruits that are edged with crisp acidity. It is ripe, but still young; drink this attractive wine from 2017.\",\n",
    "  \"title\": \"DFJ Vinhos 2015 Grand'Arte Alvarinho (Lisboa)\",\n",
    "  \"country\": \"Portugal\",\n",
    "  \"points\": 87,\n",
    "  \"price\": 13.0\n",
    "}\n",
    "```"
   ]
  },
  {
   "cell_type": "code",
   "execution_count": 5,
   "id": "fab39f5c",
   "metadata": {
    "slideshow": {
     "slide_type": "slide"
    }
   },
   "outputs": [],
   "source": [
    "def dataloader():\n",
    "    import pandas as pd\n",
    "    winedata_path = \"winemag_tiny.csv\"\n",
    "    df = pd.read_csv(winedata_path)\n",
    "    for _, row in df.iterrows():\n",
    "        data_obj = {\n",
    "            \"review_body\": row[\"description\"],\n",
    "            \"title\": row[\"title\"],\n",
    "            \"country\": row[\"country\"],\n",
    "            \"points\": row[\"points\"],\n",
    "            \"price\": row[\"price\"],\n",
    "        }\n",
    "        yield data_obj"
   ]
  },
  {
   "cell_type": "markdown",
   "id": "ac4c60b6",
   "metadata": {
    "slideshow": {
     "slide_type": "slide"
    }
   },
   "source": [
    "### Import objects - with Weaviate-obtained vectors"
   ]
  },
  {
   "cell_type": "markdown",
   "id": "46fe0f5f",
   "metadata": {
    "slideshow": {
     "slide_type": "subslide"
    }
   },
   "source": [
    "#### Add the object class to the schema"
   ]
  },
  {
   "cell_type": "code",
   "execution_count": 6,
   "id": "ac2c6557",
   "metadata": {
    "slideshow": {
     "slide_type": "fragment"
    }
   },
   "outputs": [],
   "source": [
    "class_name = \"WineReview\""
   ]
  },
  {
   "cell_type": "code",
   "execution_count": 7,
   "id": "bf4579b9",
   "metadata": {
    "slideshow": {
     "slide_type": "fragment"
    }
   },
   "outputs": [],
   "source": [
    "class_obj = {\n",
    "    \"class\": class_name,\n",
    "    \"vectorizer\": \"text2vec-openai\",\n",
    "}\n",
    "\n",
    "client.schema.create_class(class_obj)"
   ]
  },
  {
   "cell_type": "code",
   "execution_count": 8,
   "id": "a2a558df",
   "metadata": {
    "scrolled": true,
    "slideshow": {
     "slide_type": "subslide"
    }
   },
   "outputs": [
    {
     "name": "stdout",
     "output_type": "stream",
     "text": [
      "{\n",
      "  \"classes\": [\n",
      "    {\n",
      "      \"class\": \"WineReview\",\n",
      "      \"invertedIndexConfig\": {\n",
      "        \"bm25\": {\n",
      "          \"b\": 0.75,\n",
      "          \"k1\": 1.2\n",
      "        },\n",
      "        \"cleanupIntervalSeconds\": 60,\n",
      "        \"stopwords\": {\n",
      "          \"additions\": null,\n",
      "          \"preset\": \"en\",\n",
      "          \"removals\": null\n",
      "        }\n",
      "      },\n",
      "      \"moduleConfig\": {\n",
      "        \"text2vec-openai\": {\n",
      "          \"model\": \"ada\",\n",
      "          \"modelVersion\": \"002\",\n",
      "          \"type\": \"text\",\n",
      "          \"vectorizeClassName\": true\n",
      "        }\n",
      "      },\n",
      "      \"properties\": [],\n",
      "      \"replicationConfig\": {\n",
      "        \"factor\": 1\n",
      "      },\n",
      "      \"shardingConfig\": {\n",
      "        \"virtualPerPhysical\": 128,\n",
      "        \"desiredCount\": 1,\n",
      "        \"actualCount\": 1,\n",
      "        \"desiredVirtualCount\": 128,\n",
      "        \"actualVirtualCount\": 128,\n",
      "        \"key\": \"_id\",\n",
      "        \"strategy\": \"hash\",\n",
      "        \"function\": \"murmur3\"\n",
      "      },\n",
      "      \"vectorIndexConfig\": {\n",
      "        \"skip\": false,\n",
      "        \"cleanupIntervalSeconds\": 300,\n",
      "        \"maxConnections\": 64,\n",
      "        \"efConstruction\": 128,\n",
      "        \"ef\": -1,\n",
      "        \"dynamicEfMin\": 100,\n",
      "        \"dynamicEfMax\": 500,\n",
      "        \"dynamicEfFactor\": 8,\n",
      "        \"vectorCacheMaxObjects\": 1000000000000,\n",
      "        \"flatSearchCutoff\": 40000,\n",
      "        \"distance\": \"cosine\",\n",
      "        \"pq\": {\n",
      "          \"enabled\": false,\n",
      "          \"bitCompression\": false,\n",
      "          \"segments\": 0,\n",
      "          \"centroids\": 256,\n",
      "          \"encoder\": {\n",
      "            \"type\": \"kmeans\",\n",
      "            \"distribution\": \"log-normal\"\n",
      "          }\n",
      "        }\n",
      "      },\n",
      "      \"vectorIndexType\": \"hnsw\",\n",
      "      \"vectorizer\": \"text2vec-openai\"\n",
      "    }\n",
      "  ]\n",
      "}\n"
     ]
    }
   ],
   "source": [
    "jprint(client.schema.get())"
   ]
  },
  {
   "cell_type": "markdown",
   "id": "59c933d1",
   "metadata": {
    "slideshow": {
     "slide_type": "slide"
    }
   },
   "source": [
    "#### Add objects"
   ]
  },
  {
   "cell_type": "code",
   "execution_count": 9,
   "id": "a8e6d7e0",
   "metadata": {
    "slideshow": {
     "slide_type": "subslide"
    }
   },
   "outputs": [],
   "source": [
    "with client.batch as batch:  # Context manager manages batch flushing\n",
    "    batch.batch_size=50\n",
    "    batch.dynamic=True\n",
    "    for data_obj in dataloader():\n",
    "        batch.add_data_object(\n",
    "            data_obj, \n",
    "            class_name\n",
    "        )"
   ]
  },
  {
   "cell_type": "code",
   "execution_count": 10,
   "id": "ffc88c07",
   "metadata": {},
   "outputs": [
    {
     "name": "stdout",
     "output_type": "stream",
     "text": [
      "{\n",
      "  \"review_body\": \"A soft, creamy wine full of apple and pear fruits that are edged with crisp acidity. It is ripe, but still young; drink this attractive wine from 2017.\",\n",
      "  \"title\": \"DFJ Vinhos 2015 Grand'Arte Alvarinho (Lisboa)\",\n",
      "  \"country\": \"Portugal\",\n",
      "  \"points\": 87,\n",
      "  \"price\": 13.0\n",
      "}\n"
     ]
    }
   ],
   "source": [
    "jprint(data_obj)"
   ]
  },
  {
   "cell_type": "markdown",
   "id": "e5eafcbf",
   "metadata": {
    "slideshow": {
     "slide_type": "slide"
    }
   },
   "source": [
    "#### Did it work?"
   ]
  },
  {
   "cell_type": "code",
   "execution_count": 11,
   "id": "3ffcc715",
   "metadata": {
    "slideshow": {
     "slide_type": "subslide"
    }
   },
   "outputs": [
    {
     "name": "stdout",
     "output_type": "stream",
     "text": [
      "{\n",
      "  \"data\": {\n",
      "    \"Aggregate\": {\n",
      "      \"WineReview\": [\n",
      "        {\n",
      "          \"meta\": {\n",
      "            \"count\": 50\n",
      "          }\n",
      "        }\n",
      "      ]\n",
      "    }\n",
      "  }\n",
      "}\n"
     ]
    }
   ],
   "source": [
    "jprint(client.query.aggregate(class_name).with_meta_count().do())"
   ]
  },
  {
   "cell_type": "markdown",
   "id": "fd1cdc59",
   "metadata": {
    "slideshow": {
     "slide_type": "fragment"
    }
   },
   "source": [
    "👍"
   ]
  },
  {
   "cell_type": "markdown",
   "id": "ea028e3e",
   "metadata": {
    "slideshow": {
     "slide_type": "subslide"
    }
   },
   "source": [
    "Let's try a vector search"
   ]
  },
  {
   "cell_type": "code",
   "execution_count": 12,
   "id": "221ff176",
   "metadata": {
    "scrolled": true,
    "slideshow": {
     "slide_type": "fragment"
    }
   },
   "outputs": [
    {
     "name": "stdout",
     "output_type": "stream",
     "text": [
      "{\n",
      "  \"data\": {\n",
      "    \"Get\": {\n",
      "      \"WineReview\": [\n",
      "        {\n",
      "          \"_additional\": {\n",
      "            \"distance\": 0.10594118,\n",
      "            \"id\": \"f9a081b2-08a8-46fd-99f7-a0b1b64c0607\"\n",
      "          },\n",
      "          \"country\": \"France\",\n",
      "          \"review_body\": \"Definite juiciness here, although the wine has a light and fresh character. The acidity and tannins are there to give the berry fruit a boost.\",\n",
      "          \"title\": \"Ch\\u00e2teau Saint-Sernin 2007 Malbec (Cahors)\"\n",
      "        },\n",
      "        {\n",
      "          \"_additional\": {\n",
      "            \"distance\": 0.11196965,\n",
      "            \"id\": \"6db7e884-da6f-459f-9c83-b31656a0b17f\"\n",
      "          },\n",
      "          \"country\": \"France\",\n",
      "          \"review_body\": \"This ripe wine with its red fruits and well-balanced texture is beautifully ready to drink, with just the right crisp acidity to balance the soft richness. There is no sign yet of maturity, the fruit from this great vintage showing at its perfumed best. Drink the wine now.\",\n",
      "          \"title\": \"Pol Roger 2008 Ros\\u00e9 Brut  (Champagne)\"\n",
      "        },\n",
      "        {\n",
      "          \"_additional\": {\n",
      "            \"distance\": 0.115158916,\n",
      "            \"id\": \"10e143bc-3328-4d89-9210-5aa543051283\"\n",
      "          },\n",
      "          \"country\": \"France\",\n",
      "          \"review_body\": \"Classic Viognier apricot flavors are prominent in this ripe, full wine. It's as poised as it is rich\\u2014full of fruit, with a warm, rounded aftertaste.\",\n",
      "          \"title\": \"Maison de la Villette 2016 Viognier (Vin de France)\"\n",
      "        },\n",
      "        {\n",
      "          \"_additional\": {\n",
      "            \"distance\": 0.11753005,\n",
      "            \"id\": \"9f6b35b3-eff1-43e3-bb8c-d009f8ed9dfc\"\n",
      "          },\n",
      "          \"country\": \"France\",\n",
      "          \"review_body\": \"This wine has some richness, with ripe black currants and balanced acidity. The wood-aging just shows but, again, is balanced. With its fresh fruitiness, the wine will age quickly, so drink from 2017.\",\n",
      "          \"title\": \"Ch\\u00e2teau Balac 2013  Haut-M\\u00e9doc\"\n",
      "        },\n",
      "        {\n",
      "          \"_additional\": {\n",
      "            \"distance\": 0.12194657,\n",
      "            \"id\": \"71f4c10a-f9ef-481a-beff-9dab94954a5e\"\n",
      "          },\n",
      "          \"country\": \"France\",\n",
      "          \"review_body\": \"This wine comes from a vineyard, created in 1894, in which the vines are planted against walls to get the maximum reflected heat. It is a majestic wine\\u2014a smooth wave, opulent and rich with intense acidity and just a hint of spice. The wine is just ready to drink, although it will be even more impressive from 2018.\",\n",
      "          \"title\": \"Ch\\u00e2teau de Parnay 2011 Clos d'Entre les Murs  (Saumur)\"\n",
      "        }\n",
      "      ]\n",
      "    }\n",
      "  }\n",
      "}\n"
     ]
    }
   ],
   "source": [
    "results = client.query.get(\n",
    "    class_name, [\"title\", \"country\", \"review_body\"]\n",
    ").with_near_text(\n",
    "    {\"concepts\": [\"fruity French wine\"]}\n",
    ").with_additional(\n",
    "    [\"distance\", \"id\"]\n",
    ").with_limit(5).do()\n",
    "jprint(results)"
   ]
  },
  {
   "cell_type": "markdown",
   "id": "4a77ea4b",
   "metadata": {
    "slideshow": {
     "slide_type": "fragment"
    }
   },
   "source": [
    "👍🥳"
   ]
  },
  {
   "cell_type": "markdown",
   "id": "66f01406",
   "metadata": {
    "slideshow": {
     "slide_type": "slide"
    }
   },
   "source": [
    "### Import objects - with our own vectors"
   ]
  },
  {
   "cell_type": "markdown",
   "id": "61b8fe62",
   "metadata": {
    "slideshow": {
     "slide_type": "slide"
    }
   },
   "source": [
    "#### Add the object class to the schema"
   ]
  },
  {
   "cell_type": "code",
   "execution_count": 13,
   "id": "b4713081",
   "metadata": {
    "slideshow": {
     "slide_type": "subslide"
    }
   },
   "outputs": [],
   "source": [
    "class_name = \"OtherWineReview\""
   ]
  },
  {
   "cell_type": "code",
   "execution_count": 14,
   "id": "528e6502",
   "metadata": {
    "slideshow": {
     "slide_type": "fragment"
    }
   },
   "outputs": [],
   "source": [
    "class_obj = {\n",
    "    \"class\": class_name,\n",
    "    \"vectorizer\": \"none\",\n",
    "}\n",
    "\n",
    "client.schema.create_class(class_obj)"
   ]
  },
  {
   "cell_type": "markdown",
   "id": "ac4ca8b0",
   "metadata": {
    "slideshow": {
     "slide_type": "slide"
    }
   },
   "source": [
    "### Add objects"
   ]
  },
  {
   "cell_type": "markdown",
   "id": "f9ab2d0d",
   "metadata": {
    "slideshow": {
     "slide_type": "fragment"
    }
   },
   "source": [
    "(We will use arbitrary, meaningless vectors just for demonstration.)"
   ]
  },
  {
   "cell_type": "code",
   "execution_count": 15,
   "id": "5b07795c",
   "metadata": {
    "slideshow": {
     "slide_type": "subslide"
    }
   },
   "outputs": [],
   "source": [
    "with client.batch as batch:  # Context manager manages batch flushing\n",
    "    batch.batch_size=50\n",
    "    batch.dynamic=True\n",
    "    for i, data_obj in enumerate(dataloader()):\n",
    "        batch.add_data_object(\n",
    "            data_obj, \n",
    "            class_name, \n",
    "            # ⬇️ Arbitrary, meaningless vectors\n",
    "            vector=[0.1 + (i+j) * 0.01 for j in range(5)]  \n",
    "        )  "
   ]
  },
  {
   "cell_type": "markdown",
   "id": "a053f07c",
   "metadata": {
    "slideshow": {
     "slide_type": "subslide"
    }
   },
   "source": [
    "Let's try a vector search again.\n",
    "\n",
    "But we cannot use `nearText` as we don't have a vectorizer configured. So we will use `nearVector`."
   ]
  },
  {
   "cell_type": "code",
   "execution_count": 16,
   "id": "da994181",
   "metadata": {
    "scrolled": true,
    "slideshow": {
     "slide_type": "fragment"
    },
    "tags": []
   },
   "outputs": [
    {
     "name": "stdout",
     "output_type": "stream",
     "text": [
      "{\n",
      "  \"data\": {\n",
      "    \"Get\": {\n",
      "      \"OtherWineReview\": [\n",
      "        {\n",
      "          \"_additional\": {\n",
      "            \"distance\": 0.00026863813,\n",
      "            \"id\": \"0e34c52f-feef-46ab-a2a1-603b4af2fca5\",\n",
      "            \"vector\": [\n",
      "              0.59,\n",
      "              0.6,\n",
      "              0.61,\n",
      "              0.62,\n",
      "              0.63\n",
      "            ]\n",
      "          },\n",
      "          \"country\": \"Portugal\",\n",
      "          \"review_body\": \"A soft, creamy wine full of apple and pear fruits that are edged with crisp acidity. It is ripe, but still young; drink this attractive wine from 2017.\",\n",
      "          \"title\": \"DFJ Vinhos 2015 Grand'Arte Alvarinho (Lisboa)\"\n",
      "        },\n",
      "        {\n",
      "          \"_additional\": {\n",
      "            \"distance\": 0.00027763844,\n",
      "            \"id\": \"391deb37-d56c-419d-a70a-91b71a27d773\",\n",
      "            \"vector\": [\n",
      "              0.58,\n",
      "              0.59,\n",
      "              0.6,\n",
      "              0.61,\n",
      "              0.62\n",
      "            ]\n",
      "          },\n",
      "          \"country\": \"France\",\n",
      "          \"review_body\": \"Classic Viognier apricot flavors are prominent in this ripe, full wine. It's as poised as it is rich\\u2014full of fruit, with a warm, rounded aftertaste.\",\n",
      "          \"title\": \"Maison de la Villette 2016 Viognier (Vin de France)\"\n",
      "        },\n",
      "        {\n",
      "          \"_additional\": {\n",
      "            \"distance\": 0.00028723478,\n",
      "            \"id\": \"7c754926-3f9d-4f67-b081-f15f216ad667\",\n",
      "            \"vector\": [\n",
      "              0.57,\n",
      "              0.58,\n",
      "              0.59,\n",
      "              0.6,\n",
      "              0.61\n",
      "            ]\n",
      "          },\n",
      "          \"country\": \"Portugal\",\n",
      "          \"review_body\": \"In a medium sweet style, the wine has a light prickle and fine citrus acidity to balance the soft freshness. It is a refreshing wine, totally drinkable immediately.\",\n",
      "          \"title\": \"Messias 2015 Santola White (Vinho Verde)\"\n",
      "        },\n",
      "        {\n",
      "          \"_additional\": {\n",
      "            \"distance\": 0.00029712915,\n",
      "            \"id\": \"95ee7e81-a2b1-4bc8-a6b1-58f1bf8d61e5\",\n",
      "            \"vector\": [\n",
      "              0.56,\n",
      "              0.57,\n",
      "              0.58,\n",
      "              0.59,\n",
      "              0.6\n",
      "            ]\n",
      "          },\n",
      "          \"country\": \"US\",\n",
      "          \"review_body\": \"Sheer on the nose and palate with flavors of lemon and lime juice accented by hints of salted nuts and brine. These flavors are savory and clean, but could use a boost of concentration and depth.\",\n",
      "          \"title\": \"Brotherhood 2010 Chardonnay (New York)\"\n",
      "        },\n",
      "        {\n",
      "          \"_additional\": {\n",
      "            \"distance\": 0.00030767918,\n",
      "            \"id\": \"2a299f37-3ab7-43a8-916e-ef2c9b394d8b\",\n",
      "            \"vector\": [\n",
      "              0.55,\n",
      "              0.56,\n",
      "              0.57,\n",
      "              0.58,\n",
      "              0.59\n",
      "            ]\n",
      "          },\n",
      "          \"country\": \"US\",\n",
      "          \"review_body\": \"In Spain, Albari\\u00f1o is usually a steely, bone dry, sea-inflected white wine. Here it is made in an off-dry style, with 10 g/L residual sugar. The sweetness masks any apparent varietal specificity, resulting in a pleasant, but generic white wine.\",\n",
      "          \"title\": \"Castillo De Feliciana 2012 Albari\\u00f1o (Columbia Valley (WA))\"\n",
      "        },\n",
      "        {\n",
      "          \"_additional\": {\n",
      "            \"distance\": 0.00031870604,\n",
      "            \"id\": \"22f0a938-9598-4901-b745-995fc832f4f0\",\n",
      "            \"vector\": [\n",
      "              0.54,\n",
      "              0.55,\n",
      "              0.56,\n",
      "              0.57,\n",
      "              0.58\n",
      "            ]\n",
      "          },\n",
      "          \"country\": \"Argentina\",\n",
      "          \"review_body\": \"Generous, sizable aromas of cassis, blackberry and violet are inviting. This is juicy, with slightly wiry acidity creating a racy mouthfeel. Flavors of berry and cassis are loamy on their own but ride comfortably on a wave of tartaric acidity, while the finish is lifted and lively, with black-fruit flavors.\",\n",
      "          \"title\": \"Do\\u00f1a Silvina 2011 Malbec (Mendoza)\"\n",
      "        },\n",
      "        {\n",
      "          \"_additional\": {\n",
      "            \"distance\": 0.00033050776,\n",
      "            \"id\": \"3a9f40b9-5867-4ff3-9c27-0e467f1be83c\",\n",
      "            \"vector\": [\n",
      "              0.53,\n",
      "              0.54,\n",
      "              0.55,\n",
      "              0.56,\n",
      "              0.57\n",
      "            ]\n",
      "          },\n",
      "          \"country\": \"Argentina\",\n",
      "          \"review_body\": \"Black plum, cola and chocolate define this textbook Malbec. The wine has body, heft and lots of fruit, but also some complexity and character. Flavors of black cherry, plum and cassis are layered and fairly boisterous, while the mouthfeel is firm and just slightly tannic. Just right for red meats and pastas.\",\n",
      "          \"title\": \"Piattelli 2005 Premium Malbec (Luj\\u00e1n de Cuyo)\"\n",
      "        },\n",
      "        {\n",
      "          \"_additional\": {\n",
      "            \"distance\": 0.0003427863,\n",
      "            \"id\": \"f46f2ff5-6dde-44e8-b684-10deb2f18aaa\",\n",
      "            \"vector\": [\n",
      "              0.52,\n",
      "              0.53,\n",
      "              0.54,\n",
      "              0.55,\n",
      "              0.56\n",
      "            ]\n",
      "          },\n",
      "          \"country\": \"France\",\n",
      "          \"review_body\": \"Definite juiciness here, although the wine has a light and fresh character. The acidity and tannins are there to give the berry fruit a boost.\",\n",
      "          \"title\": \"Ch\\u00e2teau Saint-Sernin 2007 Malbec (Cahors)\"\n",
      "        },\n",
      "        {\n",
      "          \"_additional\": {\n",
      "            \"distance\": 0.00035578012,\n",
      "            \"id\": \"7bebc729-63a6-4d42-898a-ba9e24b00fed\",\n",
      "            \"vector\": [\n",
      "              0.51,\n",
      "              0.52,\n",
      "              0.53,\n",
      "              0.54,\n",
      "              0.55\n",
      "            ]\n",
      "          },\n",
      "          \"country\": \"Argentina\",\n",
      "          \"review_body\": \"Fruity on the nose, with a friendly mix of pineapple, apple, melon and powdered sugar aromas. Feels smooth and round but not heavy, with good acidity and likable, simple flavors of melon, banana and apple. There's a light note of toast on the finish.\",\n",
      "          \"title\": \"Alamos 2010 Chardonnay (Mendoza)\"\n",
      "        },\n",
      "        {\n",
      "          \"_additional\": {\n",
      "            \"distance\": 0.0003696084,\n",
      "            \"id\": \"ad9dd850-44f8-45f2-89ef-ad173433e30c\",\n",
      "            \"vector\": [\n",
      "              0.5,\n",
      "              0.51,\n",
      "              0.52,\n",
      "              0.53,\n",
      "              0.54\n",
      "            ]\n",
      "          },\n",
      "          \"country\": \"US\",\n",
      "          \"review_body\": \"Dry, smooth and classy, with rich chocolate, blackberry and cherry pie, anise and oak flavors. A bit too soft and sweet for extended aging, but will provide pleasant drinking over the next six years.\",\n",
      "          \"title\": \"Clos La Chance 2008 Whitestone Vineyard Cabernet Sauvignon (Central Coast)\"\n",
      "        }\n",
      "      ]\n",
      "    }\n",
      "  }\n",
      "}\n"
     ]
    }
   ],
   "source": [
    "results = client.query.get(\n",
    "    class_name, [\"title\", \"country\", \"review_body\"]\n",
    ").with_near_vector(\n",
    "    {\"vector\": [0.6] * 5}\n",
    ").with_additional(\n",
    "    [\"distance\", \"id\", \"vector\"]\n",
    ").with_limit(10).do()  # We use a limit of 10 in the video - lowered here for brevity\n",
    "jprint(results)"
   ]
  },
  {
   "cell_type": "markdown",
   "id": "887fd8c8",
   "metadata": {
    "slideshow": {
     "slide_type": "fragment"
    },
    "tags": []
   },
   "source": [
    "👍🥳"
   ]
  },
  {
   "cell_type": "markdown",
   "id": "2d5748b7",
   "metadata": {
    "slideshow": {
     "slide_type": "slide"
    }
   },
   "source": [
    "### Import objects - specify vectors AND use a vectorizer!"
   ]
  },
  {
   "cell_type": "markdown",
   "id": "03a42a60",
   "metadata": {
    "slideshow": {
     "slide_type": "fragment"
    }
   },
   "source": [
    "But - how? And why? 🤔"
   ]
  },
  {
   "cell_type": "markdown",
   "id": "91fcde87",
   "metadata": {
    "slideshow": {
     "slide_type": "slide"
    }
   },
   "source": [
    "#### Add the object class to the schema"
   ]
  },
  {
   "cell_type": "code",
   "execution_count": 17,
   "id": "551df29c",
   "metadata": {
    "slideshow": {
     "slide_type": "subslide"
    }
   },
   "outputs": [],
   "source": [
    "class_name = \"OtherOtherWineReview\""
   ]
  },
  {
   "cell_type": "code",
   "execution_count": 18,
   "id": "fb5f6f9c",
   "metadata": {
    "slideshow": {
     "slide_type": "fragment"
    }
   },
   "outputs": [],
   "source": [
    "class_obj = {\n",
    "    \"class\": class_name,\n",
    "    \"vectorizer\": \"text2vec-openai\",\n",
    "}\n",
    "\n",
    "client.schema.create_class(class_obj)"
   ]
  },
  {
   "cell_type": "markdown",
   "id": "749b8c4f",
   "metadata": {
    "slideshow": {
     "slide_type": "slide"
    }
   },
   "source": [
    "### Add objects"
   ]
  },
  {
   "cell_type": "code",
   "execution_count": 19,
   "id": "249de353",
   "metadata": {
    "slideshow": {
     "slide_type": "subslide"
    }
   },
   "outputs": [],
   "source": [
    "import openai\n",
    "openai.api_key = api_key\n",
    "\n",
    "with client.batch as batch:  # Context manager manages batch flushing\n",
    "    batch.batch_size=50\n",
    "    batch.dynamic=True\n",
    "    for i, data_obj in enumerate(dataloader()):\n",
    "        input_txt = \" || \".join([data_obj[\"title\"], data_obj[\"country\"], data_obj[\"review_body\"]])\n",
    "        openai_resp = openai.Embedding.create(\n",
    "            model=\"text-embedding-ada-002\",\n",
    "            input=input_txt\n",
    "        )\n",
    "        vector = openai_resp[\"data\"][0][\"embedding\"]     \n",
    "        batch.add_data_object(\n",
    "            data_obj, \n",
    "            class_name, \n",
    "            vector=vector  # Provide openai vector\n",
    "        )  "
   ]
  },
  {
   "cell_type": "markdown",
   "id": "dfb741e1",
   "metadata": {
    "slideshow": {
     "slide_type": "subslide"
    }
   },
   "source": [
    "As before, we can still perform vector searches. Here's one with the latest vector from the `for` loop:"
   ]
  },
  {
   "cell_type": "code",
   "execution_count": 20,
   "id": "6c339c9d",
   "metadata": {
    "slideshow": {
     "slide_type": "subslide"
    }
   },
   "outputs": [
    {
     "name": "stdout",
     "output_type": "stream",
     "text": [
      "{\n",
      "  \"review_body\": \"A soft, creamy wine full of apple and pear fruits that are edged with crisp acidity. It is ripe, but still young; drink this attractive wine from 2017.\",\n",
      "  \"title\": \"DFJ Vinhos 2015 Grand'Arte Alvarinho (Lisboa)\",\n",
      "  \"country\": \"Portugal\",\n",
      "  \"points\": 87,\n",
      "  \"price\": 13.0\n",
      "}\n"
     ]
    }
   ],
   "source": [
    "jprint(data_obj)"
   ]
  },
  {
   "cell_type": "code",
   "execution_count": 21,
   "id": "7a50f52d",
   "metadata": {
    "scrolled": true,
    "slideshow": {
     "slide_type": "fragment"
    }
   },
   "outputs": [
    {
     "name": "stdout",
     "output_type": "stream",
     "text": [
      "{\n",
      "  \"data\": {\n",
      "    \"Get\": {\n",
      "      \"OtherOtherWineReview\": [\n",
      "        {\n",
      "          \"_additional\": {\n",
      "            \"distance\": 1.1920929e-07,\n",
      "            \"id\": \"0ad6ece9-50ef-4370-957c-bcec6bcf7c9c\"\n",
      "          },\n",
      "          \"country\": \"Portugal\",\n",
      "          \"review_body\": \"A soft, creamy wine full of apple and pear fruits that are edged with crisp acidity. It is ripe, but still young; drink this attractive wine from 2017.\",\n",
      "          \"title\": \"DFJ Vinhos 2015 Grand'Arte Alvarinho (Lisboa)\"\n",
      "        },\n",
      "        {\n",
      "          \"_additional\": {\n",
      "            \"distance\": 0.11368734,\n",
      "            \"id\": \"d6beadb6-8527-4e69-b66c-f533d2f2c79a\"\n",
      "          },\n",
      "          \"country\": \"Portugal\",\n",
      "          \"review_body\": \"In a medium sweet style, the wine has a light prickle and fine citrus acidity to balance the soft freshness. It is a refreshing wine, totally drinkable immediately.\",\n",
      "          \"title\": \"Messias 2015 Santola White (Vinho Verde)\"\n",
      "        },\n",
      "        {\n",
      "          \"_additional\": {\n",
      "            \"distance\": 0.11608094,\n",
      "            \"id\": \"e9af37f3-5413-49d7-9155-b2712f9e08ba\"\n",
      "          },\n",
      "          \"country\": \"Spain\",\n",
      "          \"review_body\": \"This wine's classic Albari\\u00f1o aromas of white flowers and stone fruit are simple and nice. It feels round and true but a touch flat. Thompson grape, melon and ripe apple flavors hold steady on the finish. Drink now.\",\n",
      "          \"title\": \"Condes de Albarei 2016 Albari\\u00f1o (R\\u00edas Baixas)\"\n",
      "        },\n",
      "        {\n",
      "          \"_additional\": {\n",
      "            \"distance\": 0.12657464,\n",
      "            \"id\": \"6e249c4d-b126-4259-9203-42fc8e44d216\"\n",
      "          },\n",
      "          \"country\": \"Portugal\",\n",
      "          \"review_body\": \"This is a spicy earthy wine with its high percentage of Alicante Bouschet giving rich tannins and a dark dense texture. The wine is packed with dense fruit and power, perhaps erring on the side of too much, with a pepper edge to the concentrated black fruit. Drink now.\",\n",
      "          \"title\": \"Herdade das Servas 2015 Sem Barrica Unoaked Red (Alentejano)\"\n",
      "        },\n",
      "        {\n",
      "          \"_additional\": {\n",
      "            \"distance\": 0.14574271,\n",
      "            \"id\": \"9addbc95-f708-4728-80eb-b08ed0bab936\"\n",
      "          },\n",
      "          \"country\": \"US\",\n",
      "          \"review_body\": \"In Spain, Albari\\u00f1o is usually a steely, bone dry, sea-inflected white wine. Here it is made in an off-dry style, with 10 g/L residual sugar. The sweetness masks any apparent varietal specificity, resulting in a pleasant, but generic white wine.\",\n",
      "          \"title\": \"Castillo De Feliciana 2012 Albari\\u00f1o (Columbia Valley (WA))\"\n",
      "        }\n",
      "      ]\n",
      "    }\n",
      "  }\n",
      "}\n"
     ]
    }
   ],
   "source": [
    "results = client.query.get(\n",
    "    class_name, [\"title\", \"country\", \"review_body\"]\n",
    ").with_near_vector(\n",
    "    {\"vector\": vector}\n",
    ").with_additional(\n",
    "    [\"distance\", \"id\"]\n",
    ").with_limit(5).do()\n",
    "jprint(results)"
   ]
  },
  {
   "cell_type": "markdown",
   "id": "4d5280ce",
   "metadata": {
    "slideshow": {
     "slide_type": "subslide"
    }
   },
   "source": [
    "But perhaps more importantly..."
   ]
  },
  {
   "cell_type": "markdown",
   "id": "c36b9ea1",
   "metadata": {
    "slideshow": {
     "slide_type": "fragment"
    }
   },
   "source": [
    "We can still use `nearText` to vectorize inputs, while making use of our own vectors!"
   ]
  },
  {
   "cell_type": "code",
   "execution_count": 22,
   "id": "c6ca524a",
   "metadata": {
    "scrolled": true,
    "slideshow": {
     "slide_type": "fragment"
    }
   },
   "outputs": [
    {
     "name": "stdout",
     "output_type": "stream",
     "text": [
      "{\n",
      "  \"data\": {\n",
      "    \"Get\": {\n",
      "      \"OtherOtherWineReview\": [\n",
      "        {\n",
      "          \"_additional\": {\n",
      "            \"distance\": 0.123701274,\n",
      "            \"id\": \"ae1e1fdb-a006-4f3c-a8c0-d83119a6c565\"\n",
      "          },\n",
      "          \"country\": \"France\",\n",
      "          \"review_body\": \"Classic Viognier apricot flavors are prominent in this ripe, full wine. It's as poised as it is rich\\u2014full of fruit, with a warm, rounded aftertaste.\",\n",
      "          \"title\": \"Maison de la Villette 2016 Viognier (Vin de France)\"\n",
      "        },\n",
      "        {\n",
      "          \"_additional\": {\n",
      "            \"distance\": 0.1310789,\n",
      "            \"id\": \"0bd5c5dd-accf-4019-9092-bdae682643dd\"\n",
      "          },\n",
      "          \"country\": \"France\",\n",
      "          \"review_body\": \"Firm tannins make this wine solid and dry. It has banana and bright cherry fruits well integrated with the acidity. The aftertaste suggests the wine could benefit from a few more months before drinking, so wait until 2017.\",\n",
      "          \"title\": \"Domaine Foretal 2015  Beaujolais-Villages\"\n",
      "        },\n",
      "        {\n",
      "          \"_additional\": {\n",
      "            \"distance\": 0.13253331,\n",
      "            \"id\": \"90b66c4c-8f32-463b-9fd3-d0d338c37a8b\"\n",
      "          },\n",
      "          \"country\": \"France\",\n",
      "          \"review_body\": \"Definite juiciness here, although the wine has a light and fresh character. The acidity and tannins are there to give the berry fruit a boost.\",\n",
      "          \"title\": \"Ch\\u00e2teau Saint-Sernin 2007 Malbec (Cahors)\"\n",
      "        },\n",
      "        {\n",
      "          \"_additional\": {\n",
      "            \"distance\": 0.13986397,\n",
      "            \"id\": \"be4fb6ae-3d49-4728-a08a-7b1ede9678df\"\n",
      "          },\n",
      "          \"country\": \"France\",\n",
      "          \"review_body\": \"This ripe wine with its red fruits and well-balanced texture is beautifully ready to drink, with just the right crisp acidity to balance the soft richness. There is no sign yet of maturity, the fruit from this great vintage showing at its perfumed best. Drink the wine now.\",\n",
      "          \"title\": \"Pol Roger 2008 Ros\\u00e9 Brut  (Champagne)\"\n",
      "        },\n",
      "        {\n",
      "          \"_additional\": {\n",
      "            \"distance\": 0.14275938,\n",
      "            \"id\": \"8886fd97-c324-4aed-8c4a-b3c28e0ced20\"\n",
      "          },\n",
      "          \"country\": \"Hungary\",\n",
      "          \"review_body\": \"This wine is made from 100% Furmint and has an intriguing bouquet of jasmine and lemon blossom. It is crisp and acidic on the palate with pleasant flavors of lemon zest and lime juice.\",\n",
      "          \"title\": \"Kikelet 2015 Furmint (Tokaj)\"\n",
      "        }\n",
      "      ]\n",
      "    }\n",
      "  }\n",
      "}\n"
     ]
    }
   ],
   "source": [
    "results = client.query.get(\n",
    "    class_name, [\"title\", \"country\", \"review_body\"]\n",
    ").with_near_text(\n",
    "    {\"concepts\": [\"fruity French wine\"]}\n",
    ").with_additional(\n",
    "    [\"distance\", \"id\"]\n",
    ").with_limit(5).do()\n",
    "jprint(results)"
   ]
  },
  {
   "cell_type": "markdown",
   "id": "80dec435",
   "metadata": {
    "slideshow": {
     "slide_type": "fragment"
    }
   },
   "source": [
    "👍🥳👍🥳"
   ]
  },
  {
   "cell_type": "markdown",
   "id": "730b5317",
   "metadata": {
    "slideshow": {
     "slide_type": "slide"
    }
   },
   "source": [
    "## Wrap-up\n",
    "\n",
    "- You can provide your vector to Weaviate **or** have Weaviate handle vectorization. It depends on your situation."
   ]
  },
  {
   "cell_type": "markdown",
   "id": "abf0495b",
   "metadata": {
    "slideshow": {
     "slide_type": "fragment"
    }
   },
   "source": [
    "- If a vector is provided with the object, Weaviate will use that vector at import time *regardless of* whether a vectorizer is specified."
   ]
  },
  {
   "cell_type": "markdown",
   "id": "21cac4bf",
   "metadata": {
    "slideshow": {
     "slide_type": "fragment"
    }
   },
   "source": [
    "- If a vectorizer is not specified, you cannot use *nearText* as Weaviate has no way of turning text into a vector."
   ]
  },
  {
   "cell_type": "markdown",
   "id": "d533c1ad",
   "metadata": {
    "slideshow": {
     "slide_type": "fragment"
    }
   },
   "source": [
    "- Using a vectorizer and providing your own vectors can give you the best of both worlds in some cases. "
   ]
  },
  {
   "cell_type": "code",
   "execution_count": null,
   "id": "f34735de",
   "metadata": {},
   "outputs": [],
   "source": []
  }
 ],
 "metadata": {
  "celltoolbar": "Slideshow",
  "kernelspec": {
   "display_name": "Python 3 (ipykernel)",
   "language": "python",
   "name": "python3"
  },
  "language_info": {
   "codemirror_mode": {
    "name": "ipython",
    "version": 3
   },
   "file_extension": ".py",
   "mimetype": "text/x-python",
   "name": "python",
   "nbconvert_exporter": "python",
   "pygments_lexer": "ipython3",
   "version": "3.10.8"
  },
  "varInspector": {
   "cols": {
    "lenName": 16,
    "lenType": 16,
    "lenVar": 40
   },
   "kernels_config": {
    "python": {
     "delete_cmd_postfix": "",
     "delete_cmd_prefix": "del ",
     "library": "var_list.py",
     "varRefreshCmd": "print(var_dic_list())"
    },
    "r": {
     "delete_cmd_postfix": ") ",
     "delete_cmd_prefix": "rm(",
     "library": "var_list.r",
     "varRefreshCmd": "cat(var_dic_list()) "
    }
   },
   "types_to_exclude": [
    "module",
    "function",
    "builtin_function_or_method",
    "instance",
    "_Feature"
   ],
   "window_display": false
  }
 },
 "nbformat": 4,
 "nbformat_minor": 5
}
